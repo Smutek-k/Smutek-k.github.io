{
 "cells": [
  {
   "cell_type": "code",
   "execution_count": 3,
   "id": "flexible-declaration",
   "metadata": {},
   "outputs": [],
   "source": [
    "from fractions import Fraction"
   ]
  },
  {
   "cell_type": "code",
   "execution_count": 4,
   "id": "practical-niagara",
   "metadata": {},
   "outputs": [],
   "source": [
    "#theta here is theta_hat of the paper\n",
    "theta_star = Fraction(-3,2**3)\n",
    "theta_zero = Fraction(1,2**2)\n",
    "theta_one = Fraction(-1,2**3)\n",
    "theta_two_plus = Fraction(-1,2**5)\n",
    "theta_two_minus = Fraction(5,2**5)"
   ]
  },
  {
   "cell_type": "code",
   "execution_count": 5,
   "id": "changing-malta",
   "metadata": {},
   "outputs": [],
   "source": [
    "#from numpy import sin, cos, pi\n",
    "#import scipy.integrate as integrate\n",
    "from sympy import sin, cos\n",
    "from sympy.abc import x\n",
    "from sympy import integrate\n",
    "from sympy import *"
   ]
  },
  {
   "cell_type": "code",
   "execution_count": 67,
   "id": "swiss-mongolia",
   "metadata": {},
   "outputs": [],
   "source": [
    "#psi here is psi_hat of the paper\n",
    "def psi(a,b):\n",
    "    return(integrate(cos(x)**(2*a)*sin(x)**(2*b)/pi, (x,0,2*pi)))\n",
    "# next task find a representation in python for vectors k and l"
   ]
  }
 ],
 "metadata": {
  "kernelspec": {
   "display_name": "Python 3",
   "language": "python",
   "name": "python3"
  },
  "language_info": {
   "codemirror_mode": {
    "name": "ipython",
    "version": 3
   },
   "file_extension": ".py",
   "mimetype": "text/x-python",
   "name": "python",
   "nbconvert_exporter": "python",
   "pygments_lexer": "ipython3",
   "version": "3.6.13"
  }
 },
 "nbformat": 4,
 "nbformat_minor": 5
}
