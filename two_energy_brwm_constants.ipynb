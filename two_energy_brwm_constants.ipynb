{
 "cells": [
  {
   "cell_type": "code",
   "execution_count": 28,
   "id": "simplified-monthly",
   "metadata": {},
   "outputs": [],
   "source": [
    "from fractions import Fraction"
   ]
  },
  {
   "cell_type": "code",
   "execution_count": 29,
   "id": "aerial-validation",
   "metadata": {},
   "outputs": [],
   "source": [
    "#This function takes as an argument vector k=k1,k1 and throws out associated constant theta_hat\n",
    "\n",
    "theta_hat = {\n",
    "    \"*\": Fraction(-3,2**3),\n",
    "    \"0\": Fraction(1,2**2),\n",
    "    \"|k|=1\": Fraction(-1,2**3), \n",
    "    \"prod_k_p=+1\": Fraction(-1,2**5),\n",
    "    \"prod_k_p=-1\": Fraction(5,2**5)\n",
    "}\n",
    "\n",
    "def theta_hat_eval(k):\n",
    "    if (k[0]==k[1]==0):\n",
    "        return(theta_hat[\"0\"])\n",
    "    if k[0]**2+k[1]**2==1:\n",
    "        return(theta_hat[\"|k|=1\"])\n",
    "    if (k[0]*k[1]==1):\n",
    "        return(theta_hat[\"prod_k_p=+1\"])\n",
    "    if (k[0]*k[1]==-1):\n",
    "        return(theta_hat[\"prod_k_p=-1\"])"
   ]
  },
  {
   "cell_type": "code",
   "execution_count": 30,
   "id": "republican-spanking",
   "metadata": {},
   "outputs": [],
   "source": [
    "from sympy import sin, cos\n",
    "from sympy.abc import x\n",
    "from sympy import integrate\n",
    "from sympy import *\n",
    "\n",
    "def psi_hat(a,b):\n",
    "    return(integrate(cos(x)**(2*a)*sin(x)**(2*b)/pi, (x,0,2*pi)))"
   ]
  },
  {
   "cell_type": "code",
   "execution_count": 31,
   "id": "banner-dynamics",
   "metadata": {},
   "outputs": [],
   "source": [
    "def cov(y,nu):\n",
    "    y = list(y)\n",
    "    norm = sum(map(lambda z:z*z,y))\n",
    "    positive = 0\n",
    "    negative = 0  \n",
    "    for m in range(len(y)):\n",
    "        if y[m]>0:\n",
    "            positive = positive + 1\n",
    "        if y[m]<0: \n",
    "            negative = negative + 1\n",
    "    const = Fraction(1,2**2)*(2**(positive+negative))*(2+(-1)**norm*nu)*psi_hat(negative,positive)\n",
    "    return(const)"
   ]
  },
  {
   "cell_type": "code",
   "execution_count": 32,
   "id": "homeless-syndication",
   "metadata": {},
   "outputs": [],
   "source": [
    "#Computing covariances remaining terms\n",
    "def cov_star(y,mu):\n",
    "    if y==\"*\":\n",
    "        const = (2+mu)*4*psi_hat(2,2) \n",
    "    else:\n",
    "        norm = 0\n",
    "        norm = y[0]**2+y[1]**2\n",
    "        positive = 0\n",
    "        negative = 0\n",
    "        for m in range(2):\n",
    "            if y[m]>0:\n",
    "                positive = positive + 1\n",
    "            if y[m]<0: \n",
    "                negative = negative + 1\n",
    "        const = (2**norm)*(2+(-1)**norm*mu)*psi_hat(1+positive,1+negative)\n",
    "    return(const)"
   ]
  },
  {
   "cell_type": "code",
   "execution_count": 33,
   "id": "67436ecc",
   "metadata": {},
   "outputs": [],
   "source": [
    "def var_b_E(mu):\n",
    "    #for some strange (unknonw) technical (python) reason import product needs to be here\n",
    "    #and not at the begining of a program\n",
    "    from itertools import product\n",
    "    \n",
    "    #var1 := \\sum_{k,l} \\theta_hat(k)*\\theta_hat(l)*cov(\\widehat{b_{\\EEv}}^k,\\widehat{b_{\\EEv}}^l)\n",
    "    var1 = 0 \n",
    "    \n",
    "    for y in list(product([-1,0,1],repeat = 4)):\n",
    "        z = list(y)\n",
    "        var1 = var1 + theta_hat_eval([z[0],z[1]])*theta_hat_eval([z[2],z[3]])*cov(y,mu)\n",
    "    \n",
    "    #var2 := cov(\\widehat{b_{\\EEv}},b_{\\EEv}^*)\n",
    "    var2 = 0\n",
    "    \n",
    "    for y in list(product([-1,0,1],repeat = 2)):\n",
    "        y = list(y)\n",
    "        var2 = var2+theta_hat_eval(y)*cov_star(y,mu)\n",
    "    \n",
    "    var2 = var2*2*theta_hat[\"*\"]\n",
    "\n",
    "    var3 = (theta_hat[\"*\"]**2)*cov_star(\"*\",mu) #var3 := Var(b_E^*)\n",
    "    \n",
    "    var = var1 + var2 + var3\n",
    "    \n",
    "    return(var)\n",
    "    \n"
   ]
  },
  {
   "cell_type": "code",
   "execution_count": 34,
   "id": "inner-somewhere",
   "metadata": {},
   "outputs": [
    {
     "name": "stdout",
     "output_type": "stream",
     "text": [
      "if mu=1 we recover one-energy case 43/128\n",
      "if mu=0 we obtain different value 9/64\n"
     ]
    }
   ],
   "source": [
    "print(\"if mu=1 we recover one-energy case\",var_b_E(1))\n",
    "print(\"if mu=0 we obtain different value\",var_b_E(0))"
   ]
  },
  {
   "cell_type": "code",
   "execution_count": 35,
   "id": "c738d9f7",
   "metadata": {},
   "outputs": [],
   "source": [
    "#The remaining code is only for testing purposes\n",
    "#it recovers partial results given in [NPR19]"
   ]
  },
  {
   "cell_type": "code",
   "execution_count": 36,
   "id": "young-minimum",
   "metadata": {},
   "outputs": [],
   "source": [
    "def decoding_to_npr19(w):\n",
    "    if w == 1:\n",
    "        return([0,0])\n",
    "    if w == 2:\n",
    "        return([0,-1])\n",
    "    if w == 3:\n",
    "        return([0,1])\n",
    "    if w == 4:\n",
    "        return([-1,0])\n",
    "    if w == 5:\n",
    "        return([1,0])\n",
    "    if w == 6:\n",
    "        return([-1,-1])\n",
    "    if w == 7:\n",
    "        return([1,1])\n",
    "    if w == 8:\n",
    "        return([-1,1])\n",
    "    if w == 9:\n",
    "        return([1,-1])\n",
    "    if w == 10:\n",
    "        return(\"*\") "
   ]
  },
  {
   "cell_type": "code",
   "execution_count": 37,
   "id": "valuable-boost",
   "metadata": {},
   "outputs": [
    {
     "name": "stdout",
     "output_type": "stream",
     "text": [
      "(1, 1) 3/8\n",
      "(1, 2) 1/8\n",
      "(1, 3) 1/8\n",
      "(1, 4) 1/8\n",
      "(1, 5) 1/8\n",
      "(1, 6) 9/16\n",
      "(1, 7) 9/16\n",
      "(1, 8) 3/16\n",
      "(1, 9) 3/16\n",
      "(2, 2) 9/16\n",
      "(2, 3) 3/16\n",
      "(2, 4) 9/16\n",
      "(2, 5) 3/16\n",
      "(2, 6) 5/16\n",
      "(2, 7) 1/16\n",
      "(2, 8) 1/16\n",
      "(2, 9) 1/16\n",
      "(3, 3) 9/16\n",
      "(3, 4) 3/16\n",
      "(3, 5) 9/16\n",
      "(3, 6) 1/16\n",
      "(3, 7) 5/16\n",
      "(3, 8) 1/16\n",
      "(3, 9) 1/16\n",
      "(4, 4) 9/16\n",
      "(4, 5) 3/16\n",
      "(4, 6) 5/16\n",
      "(4, 7) 1/16\n",
      "(4, 8) 1/16\n",
      "(4, 9) 1/16\n",
      "(5, 5) 9/16\n",
      "(5, 6) 1/16\n",
      "(5, 7) 5/16\n",
      "(5, 8) 1/16\n",
      "(5, 9) 1/16\n",
      "(6, 6) 105/64\n",
      "(6, 7) 9/64\n",
      "(6, 8) 15/64\n",
      "(6, 9) 15/64\n",
      "(7, 7) 105/64\n",
      "(7, 8) 15/64\n",
      "(7, 9) 15/64\n",
      "(8, 8) 9/64\n",
      "(8, 9) 9/64\n",
      "(9, 9) 9/64\n"
     ]
    }
   ],
   "source": [
    "#Printing partial results for main part under\n",
    "#matched notation on [NPR19], beware of the fact \n",
    "#that partial results for cov(b_E^k,b_E^l) in [NPR19] \n",
    "#are smaller by a factor of 4 than they should be so\n",
    "#that's why we had to divide by a factor of 4. \n",
    "\n",
    "#for some strange (unknonw) technical (python) reason import product needs to be in the\n",
    "#same cell where we use it\n",
    "from itertools import product\n",
    "\n",
    "for q in list(product([1,2,3,4,5,6,7,8,9],repeat = 2)):\n",
    "    if q[0] < q[1]+1:\n",
    "        decoded = decoding_to_npr19(q[0])+decoding_to_npr19(q[1])\n",
    "        print(q,cov(decoded,1)/4) #fix mentioned at beginnig of the cell"
   ]
  },
  {
   "cell_type": "code",
   "execution_count": 40,
   "id": "bce31289",
   "metadata": {},
   "outputs": [
    {
     "name": "stdout",
     "output_type": "stream",
     "text": [
      "(-1, -1) 15/64\n",
      "(-1, 0) 1/16\n",
      "(-1, 1) 9/64\n",
      "(0, -1) 1/16\n",
      "(0, 0) 3/16\n",
      "(0, 1) 1/16\n",
      "(1, -1) 9/64\n",
      "(1, 0) 1/16\n",
      "(1, 1) 15/64\n"
     ]
    }
   ],
   "source": [
    "#The same comments on import product and\n",
    "#correction by 1/4 apply. \n",
    "\n",
    "from itertools import product\n",
    "\n",
    "for y in list(product([-1,0,1],repeat = 2)):\n",
    "    print(y,cov_star(y,1)/4)"
   ]
  },
  {
   "cell_type": "code",
   "execution_count": 43,
   "id": "d6917a91",
   "metadata": {},
   "outputs": [
    {
     "data": {
      "text/latex": [
       "$\\displaystyle \\frac{9}{64}$"
      ],
      "text/plain": [
       "9/64"
      ]
     },
     "execution_count": 43,
     "metadata": {},
     "output_type": "execute_result"
    }
   ],
   "source": [
    "#The same comment about correction by 1/4 applies.\n",
    "cov_star(\"*\",1)/4"
   ]
  }
 ],
 "metadata": {
  "kernelspec": {
   "display_name": "Python 3",
   "language": "python",
   "name": "python3"
  },
  "language_info": {
   "codemirror_mode": {
    "name": "ipython",
    "version": 3
   },
   "file_extension": ".py",
   "mimetype": "text/x-python",
   "name": "python",
   "nbconvert_exporter": "python",
   "pygments_lexer": "ipython3",
   "version": "3.9.5"
  }
 },
 "nbformat": 4,
 "nbformat_minor": 5
}
